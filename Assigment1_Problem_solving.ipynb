{
  "nbformat": 4,
  "nbformat_minor": 0,
  "metadata": {
    "colab": {
      "name": "Assigment1-Problem solving.ipynb",
      "provenance": [],
      "collapsed_sections": []
    },
    "kernelspec": {
      "name": "python3",
      "display_name": "Python 3"
    },
    "language_info": {
      "name": "python"
    }
  },
  "cells": [
    {
      "cell_type": "code",
      "execution_count": null,
      "metadata": {
        "colab": {
          "base_uri": "https://localhost:8080/"
        },
        "id": "lJur0gNoM28j",
        "outputId": "3dae0225-7f56-4755-ef25-69f7813a452f"
      },
      "outputs": [
        {
          "output_type": "stream",
          "name": "stdout",
          "text": [
            "10\n"
          ]
        }
      ],
      "source": [
        "# 1.Print the length of string programmer\n",
        "a=\"Programmer\"\n",
        "print(len(a))"
      ]
    },
    {
      "cell_type": "code",
      "source": [
        "# 2. Write a python program to join two strings (Hint: using join() )\n",
        "str1 = \"Python\"  \n",
        "str2 = \"Programming\"\n",
        "print(\"\".join([str1, str2]))\n"
      ],
      "metadata": {
        "colab": {
          "base_uri": "https://localhost:8080/"
        },
        "id": "9hpQOSnoNiHa",
        "outputId": "63dd58b3-49b5-4e6f-ea99-8070fe95485d"
      },
      "execution_count": null,
      "outputs": [
        {
          "output_type": "stream",
          "name": "stdout",
          "text": [
            "PythonProgramming\n"
          ]
        }
      ]
    },
    {
      "cell_type": "code",
      "source": [
        "#3.Write a python program to extract digit from given string\n",
        "inp_str = \"Python4Journaldev\"\n",
        " \n",
        "print(\"Original String : \" + inp_str) \n",
        "num = \"\"\n",
        "for c in inp_str:\n",
        "    if c.isdigit():\n",
        "        num = num + c\n",
        "print(\"Extracted numbers from the list : \" + num)\n"
      ],
      "metadata": {
        "colab": {
          "base_uri": "https://localhost:8080/"
        },
        "id": "JtDNp8ukPFjW",
        "outputId": "0ecbf876-54aa-429a-c573-bb23f3a9821b"
      },
      "execution_count": null,
      "outputs": [
        {
          "output_type": "stream",
          "name": "stdout",
          "text": [
            "Original String : Python4Journaldev\n",
            "Extracted numbers from the list : 4\n"
          ]
        }
      ]
    },
    {
      "cell_type": "code",
      "source": [
        "#3.Write a python program to extract digit from given string\n",
        "import re\n",
        "inp_str = \"Hey readers, we all are here be 4 the time 1!\"\n",
        " \n",
        " \n",
        "print(\"Original string : \" + inp_str) \n",
        " \n",
        "num = re.findall(r'\\d+', inp_str) \n",
        " \n",
        "print(num)"
      ],
      "metadata": {
        "colab": {
          "base_uri": "https://localhost:8080/"
        },
        "id": "fettwktERU2w",
        "outputId": "b4a28ee1-dae4-4bea-a88c-d9c536988a29"
      },
      "execution_count": null,
      "outputs": [
        {
          "output_type": "stream",
          "name": "stdout",
          "text": [
            "Original string : Hey readers, we all are here be 4 the time 1!\n",
            "['4', '1']\n"
          ]
        }
      ]
    },
    {
      "cell_type": "code",
      "source": [
        "#4.Write a python program to split strings using newline delimiter\n",
        "a_string = \"a b c \\n d e f \\r g h i\"\n",
        "\n",
        "separated_string = a_string.splitlines()\n",
        "\n",
        "print(separated_string)"
      ],
      "metadata": {
        "colab": {
          "base_uri": "https://localhost:8080/"
        },
        "id": "0ttCCuewR-OT",
        "outputId": "892ec064-b266-4838-f569-80de00639b9f"
      },
      "execution_count": null,
      "outputs": [
        {
          "output_type": "stream",
          "name": "stdout",
          "text": [
            "['a b c ', ' d e f ', ' g h i']\n"
          ]
        }
      ]
    },
    {
      "cell_type": "code",
      "source": [
        "#5.Print the following string by using escape characters\n",
        "# We are “VIKINGS” of the  north.\n",
        "\n",
        "print(\"We are \\\"Vikings\\\" of the north.\")"
      ],
      "metadata": {
        "colab": {
          "base_uri": "https://localhost:8080/"
        },
        "id": "Fu2JnbK5TsKD",
        "outputId": "e6c353f4-056b-4d56-aab1-6a8caf0d66f2"
      },
      "execution_count": null,
      "outputs": [
        {
          "output_type": "stream",
          "name": "stdout",
          "text": [
            "We are \"Vikings\" of the north.\n"
          ]
        }
      ]
    },
    {
      "cell_type": "code",
      "source": [
        "#6.Write a code using a function to check whether a given number is prime or not\n",
        "def PrimeChecker(a):  \n",
        "    # Checking that given number is more than 1  \n",
        "    if a > 1:  \n",
        "        # Iterating over the given number with for loop  \n",
        "        for j in range(2, int(a/2) + 1):  \n",
        "            # If the given number is divisible or not  \n",
        "            if (a % j) == 0:  \n",
        "                print(a, \"is not a prime number\")  \n",
        "                break  \n",
        "        # Else it is a prime number  \n",
        "        else:  \n",
        "            print(a, \"is a prime number\")  \n",
        "    # If the given number is 1  \n",
        "    else:  \n",
        "        print(a, \"is not a prime number\")  \n",
        "# Taking an input number from the user  \n",
        "a = int(input(\"Enter an input number:\"))  \n",
        "# Printing result  \n",
        "PrimeChecker(a)  "
      ],
      "metadata": {
        "colab": {
          "base_uri": "https://localhost:8080/"
        },
        "id": "xQts85cqUOrk",
        "outputId": "456a6d6b-3caf-4460-d781-03e5eca046c8"
      },
      "execution_count": null,
      "outputs": [
        {
          "output_type": "stream",
          "name": "stdout",
          "text": [
            "Enter an input number:5\n",
            "5 is a prime number\n"
          ]
        }
      ]
    },
    {
      "cell_type": "code",
      "source": [
        "\n",
        "#7. Write a code to print a Fibonacci series upto the nth term .Use the int(input()) to get an input from  the user as well for the value of n.\n",
        "n = int(input(\"Enter value of n: \"))\n",
        "n1, n2 = 0, 1\n",
        "print(\"Fibonacci Series:\", n1, n2, end=\" \")\n",
        "for i in range(2, n):\n",
        "    n3 = n1 + n2\n",
        "    n1 = n2\n",
        "    n2 = n3\n",
        "    print(n3, end=\" \")\n",
        "\n",
        "print()"
      ],
      "metadata": {
        "colab": {
          "base_uri": "https://localhost:8080/"
        },
        "id": "GiywV2tVVwgz",
        "outputId": "490cc85f-b833-4945-895c-9d0c40711d99"
      },
      "execution_count": null,
      "outputs": [
        {
          "output_type": "stream",
          "name": "stdout",
          "text": [
            "Enter value of n: 4\n",
            "Fibonacci Series: 0 1 1 2 \n"
          ]
        }
      ]
    },
    {
      "cell_type": "code",
      "source": [
        "#Write a code using a function to check whether a given number is even or odd\n",
        "\n",
        "def check(n):\n",
        "  if n%2==0:\n",
        "    return \"Even\"\n",
        "  else:\n",
        "    return \"Odd\" \n",
        "\n",
        "print(check(5))"
      ],
      "metadata": {
        "colab": {
          "base_uri": "https://localhost:8080/"
        },
        "id": "bSh09hiZYN3i",
        "outputId": "d68ad396-09e9-4215-c1ee-a86076cad459"
      },
      "execution_count": null,
      "outputs": [
        {
          "output_type": "stream",
          "name": "stdout",
          "text": [
            "Odd\n"
          ]
        }
      ]
    },
    {
      "cell_type": "code",
      "source": [
        "#8.Write a python program to print prime numbers between 100 and 200 (Hint:for loop)\n",
        "# First, we will take the input:  \n",
        "lower_value = int(input (\"Please, Enter the Lowest Range Value: \"))  \n",
        "upper_value = int(input (\"Please, Enter the Upper Range Value: \"))  \n",
        "  \n",
        "print (\"The Prime Numbers in the range are: \")  \n",
        "for number in range (lower_value, upper_value + 1):  \n",
        "    if number > 1:  \n",
        "        for i in range (2, number):  \n",
        "            if (number % i) == 0:  \n",
        "                break  \n",
        "        else:  \n",
        "            print (number)  "
      ],
      "metadata": {
        "colab": {
          "base_uri": "https://localhost:8080/"
        },
        "id": "FuR7Diqdcve0",
        "outputId": "856f0673-7394-4a05-ba33-23783c1168bb"
      },
      "execution_count": null,
      "outputs": [
        {
          "output_type": "stream",
          "name": "stdout",
          "text": [
            "Please, Enter the Lowest Range Value: 100\n",
            "Please, Enter the Upper Range Value: 200\n",
            "The Prime Numbers in the range are: \n",
            "101\n",
            "103\n",
            "107\n",
            "109\n",
            "113\n",
            "127\n",
            "131\n",
            "137\n",
            "139\n",
            "149\n",
            "151\n",
            "157\n",
            "163\n",
            "167\n",
            "173\n",
            "179\n",
            "181\n",
            "191\n",
            "193\n",
            "197\n",
            "199\n"
          ]
        }
      ]
    },
    {
      "cell_type": "code",
      "source": [
        "#9. Write a python code to reverse the given integar and print integar\n",
        "# Ask for enter the number from the use  \n",
        "number = int(input(\"Enter the integer number: \"))  \n",
        "  \n",
        "# Initiate value to null  \n",
        "revs_number = 0  \n",
        "  \n",
        "# reverse the integer number using the while loop  \n",
        "  \n",
        "while (number > 0):  \n",
        "    # Logic  \n",
        "    remainder = number % 10  \n",
        "    revs_number = (revs_number * 10) + remainder  \n",
        "    number = number // 10  \n",
        "  \n",
        "# Display the result  \n",
        "print(\"The reverse number is : {}\".format(revs_number)) "
      ],
      "metadata": {
        "id": "U5Unu9IWc8_v"
      },
      "execution_count": null,
      "outputs": []
    },
    {
      "cell_type": "code",
      "source": [
        "#10. Write a python code to reverse the given integar and print integar\n",
        "s=str(input())\n",
        "\n",
        "print(int(s[::-1]))"
      ],
      "metadata": {
        "id": "3Nq2VADURZOf",
        "outputId": "75846c4a-4acf-4341-942c-6db809c5194e",
        "colab": {
          "base_uri": "https://localhost:8080/"
        }
      },
      "execution_count": null,
      "outputs": [
        {
          "output_type": "stream",
          "name": "stdout",
          "text": [
            "12345\n",
            "54321\n"
          ]
        }
      ]
    },
    {
      "cell_type": "code",
      "source": [
        "\"\"\"\n",
        "Explanation:\n",
        "1st iteration\n",
        "Reminder = number %10\n",
        "Reminder = 12345%10 = 5\n",
        "Reverse = Reverse *10 + Reminder Initial value of revs_number is null\n",
        "Reverse = 0 * 10 + 5 = 0 + 5 = 5\n",
        "Number = Number //10\n",
        "Number = 1234 //10 = 1234 // Now loop will iterate on this number.\n",
        "\n",
        "2nd iteration\n",
        "Reminder = Number % 10\n",
        "Reminder = 1234 % 10 = 4\n",
        "Reverse = Reverse *10+ Reminder = 5 * 10 + 4\n",
        "Reverse = 50 + 4 = 54\n",
        "Number = Number //10 = 12345 //10\n",
        "Number = 123\n",
        "\n",
        "3rd iteration\n",
        "Reminder = Number %10\n",
        "Reminder = 123%10 = 3\n",
        "Reverse = Reverse *10+ Reminder = 54 * 10 + 3\n",
        "Reverse = 540 + 3 = 543\n",
        "Number = Number //10 = 123//10\n",
        "Number = 12\n",
        "\n",
        "4th iteration\n",
        "Reminder = Number %10\n",
        "Reminder = 1 %1 0 = 1\n",
        "Reverse = Reverse *10+ Reminder = 5432 * 10 + 1\n",
        "Reverse = 54320 + 1 = 54321\n",
        "\n",
        "\"\"\""
      ],
      "metadata": {
        "id": "JYG8kPTQdoU-"
      },
      "execution_count": null,
      "outputs": []
    },
    {
      "cell_type": "code",
      "source": [
        "#11.Write a python program to plot a simple bar chart\n",
        "import numpy as np\n",
        "import matplotlib.pyplot as plt\n",
        " \n",
        "  \n",
        "# creating the dataset\n",
        "data = {'C':20, 'C++':15, 'Java':30,\n",
        "        'Python':35}\n",
        "courses = list(data.keys())\n",
        "values = list(data.values())\n",
        "  \n",
        "fig = plt.figure(figsize = (10, 5))\n",
        " \n",
        "# creating the bar plot\n",
        "plt.bar(courses, values, color ='maroon',\n",
        "        width = 0.4)\n",
        " \n",
        "plt.xlabel(\"Courses offered\")\n",
        "plt.ylabel(\"No. of students enrolled\")\n",
        "plt.title(\"Students enrolled in different courses\")\n",
        "plt.show()"
      ],
      "metadata": {
        "colab": {
          "base_uri": "https://localhost:8080/",
          "height": 350
        },
        "id": "nu51-FmxeTib",
        "outputId": "6ea55d42-c668-4689-a241-d91ed3d0e9da"
      },
      "execution_count": null,
      "outputs": [
        {
          "output_type": "display_data",
          "data": {
            "text/plain": [
              "<Figure size 720x360 with 1 Axes>"
            ],
            "image/png": "[encoded data removed]"
          },
          "metadata": {
            "needs_background": "light"
          }
        }
      ]
    },
    {
      "cell_type": "code",
      "source": [
        "#12.Write a python program to print number of words in a given sentence\n",
        "test_string = \"Coursera  is a learning platform\"\n",
        "print(\"The original string is : \" + test_string)\n",
        "res = len(test_string.split())\n",
        "print(\"The number of words in string are : \" + str(res))"
      ],
      "metadata": {
        "colab": {
          "base_uri": "https://localhost:8080/"
        },
        "id": "4KcSOTdFfVHT",
        "outputId": "6ff1ed55-a977-43a3-dd6d-1a8a12714255"
      },
      "execution_count": null,
      "outputs": [
        {
          "output_type": "stream",
          "name": "stdout",
          "text": [
            "The original string is : Coursera  is a learning platform\n",
            "The number of words in string are : 5\n"
          ]
        }
      ]
    },
    {
      "cell_type": "code",
      "source": [
        "#13.Write a python program to check whether a string is a Palindrome or not.\n",
        "# function which return reverse of a string\n",
        " \n",
        "def isPalindrome(s):\n",
        "    return s == s[::-1]\n",
        "\n",
        "# Driver code\n",
        "s = \"malayalam\"\n",
        "ans = isPalindrome(s)\n",
        " \n",
        "if ans:\n",
        "    print(\"Yes\")\n",
        "else:\n",
        "    print(\"No\")"
      ],
      "metadata": {
        "colab": {
          "base_uri": "https://localhost:8080/"
        },
        "id": "LLRuVv5Egn26",
        "outputId": "0cb8bfea-9aab-4b49-a129-9cbecdb6b2c1"
      },
      "execution_count": null,
      "outputs": [
        {
          "output_type": "stream",
          "name": "stdout",
          "text": [
            "Yes\n"
          ]
        }
      ]
    },
    {
      "cell_type": "code",
      "source": [
        "#14.Write a sort function to sort the elements in a list\n",
        "numbers = [1, 3, 4, 2]\n",
        " \n",
        "# Sorting list of Integers in ascending\n",
        "numbers.sort()\n",
        " \n",
        "print(numbers)"
      ],
      "metadata": {
        "colab": {
          "base_uri": "https://localhost:8080/"
        },
        "id": "JCB2Ey0rhNlP",
        "outputId": "efa3f084-729d-416b-a231-e8f110400077"
      },
      "execution_count": null,
      "outputs": [
        {
          "output_type": "stream",
          "name": "stdout",
          "text": [
            "[1, 2, 3, 4]\n"
          ]
        }
      ]
    },
    {
      "cell_type": "code",
      "source": [
        "15#Write a sort function to sort the elements in a list\n",
        "listOfNum = [1, 2, 5, 11, 21, 23, 45, 45, 50, 67]\n",
        "# Create a sorted (Descending Order) copy of existing list\n",
        "newList = sorted(listOfNum, reverse=True)\n",
        "print(newList)"
      ],
      "metadata": {
        "colab": {
          "base_uri": "https://localhost:8080/"
        },
        "id": "fSGiENZbLjq1",
        "outputId": "bbb841c7-a26e-457c-db97-e879032b73b6"
      },
      "execution_count": null,
      "outputs": [
        {
          "output_type": "stream",
          "name": "stdout",
          "text": [
            "[67, 50, 45, 45, 23, 21, 11, 5, 2, 1]\n"
          ]
        }
      ]
    },
    {
      "cell_type": "code",
      "source": [
        "#16.Write a python program to find missing number in an array\n",
        "arr = [1,2,3,4,5,6,7,9,10]\n",
        "missing_elements = []\n",
        "for ele in range(arr[0], arr[-1]+1):\n",
        "    if ele not in arr:\n",
        "        missing_elements.append(ele)\n",
        "print(missing_elements)\n",
        "\n",
        "\"\"\"\n",
        "Algorithm\n",
        "Step 1: Create an empty array for missing items\n",
        "\n",
        "Step 2: Loop over the elements within the range of the first and last element of the array\n",
        "\n",
        "Step 3: Compare the loop variable with the given array if the value is not present append it to the missing array\n",
        "\n",
        "Note: The array must be sorted for this to work. Use arr.sort() on an unsorted array before feeding it to the program.\n",
        "\"\"\""
      ],
      "metadata": {
        "colab": {
          "base_uri": "https://localhost:8080/",
          "height": 87
        },
        "id": "HpU54ggH_cUB",
        "outputId": "f7b63a43-da89-49ca-86f7-4aab35a49368"
      },
      "execution_count": null,
      "outputs": [
        {
          "output_type": "stream",
          "name": "stdout",
          "text": [
            "[8]\n"
          ]
        },
        {
          "output_type": "execute_result",
          "data": {
            "text/plain": [
              "'\\nAlgorithm\\nStep 1: Create an empty array for missing items\\n\\nStep 2: Loop over the elements within the range of the first and last element of the array\\n\\nStep 3: Compare the loop variable with the given array if the value is not present append it to the missing array\\n\\nNote: The array must be sorted for this to work. Use arr.sort() on an unsorted array before feeding it to the program.\\n\\n\\n'"
            ],
            "application/vnd.google.colaboratory.intrinsic+json": {
              "type": "string"
            }
          },
          "metadata": {},
          "execution_count": 2
        }
      ]
    },
    {
      "cell_type": "code",
      "source": [
        "#16.Write a python program to find missing number in an array\n",
        "#using List comprehension\n",
        "arr = [1,2,3,4,5,7,6,9,10]\n",
        "missing_elemnts = [item for item in range(arr[0], arr[-1]+1) if item not in arr]\n",
        "print(missing_elemnts)"
      ],
      "metadata": {
        "colab": {
          "base_uri": "https://localhost:8080/"
        },
        "id": "ytcbsHLEEo3d",
        "outputId": "73439b55-3e9b-423a-ed92-7b357e435d8a"
      },
      "execution_count": null,
      "outputs": [
        {
          "output_type": "stream",
          "name": "stdout",
          "text": [
            "[8]\n"
          ]
        }
      ]
    },
    {
      "cell_type": "code",
      "source": [
        "#16.Write a python program to find missing number in an array\n",
        "#using set()\n",
        "#Set() is a Python unordered mutable datatype that holds only unique values.\n",
        "arr = [1,2,3,4,5,7,6,9,10]\n",
        "missing_value = set(range(arr[0], arr[-1]+1)) - set(arr)\n",
        "print(missing_value)"
      ],
      "metadata": {
        "colab": {
          "base_uri": "https://localhost:8080/"
        },
        "id": "bedBvwwgE-wu",
        "outputId": "f2657ae0-4926-4ac0-cb0f-c5bd725b094e"
      },
      "execution_count": null,
      "outputs": [
        {
          "output_type": "stream",
          "name": "stdout",
          "text": [
            "{8}\n"
          ]
        }
      ]
    },
    {
      "cell_type": "code",
      "source": [
        "#17.Given a string as your input, delete any reoccurring character, and return the new string\n",
        "from collections import OrderedDict\n",
        "def remove_duplicate(str1):\n",
        "  return \"\".join(OrderedDict.fromkeys(str1))\n",
        "     \n",
        "s=\"abcfgbsca\"\n",
        "print(s)\n",
        "print(\"After removing duplicates: \",remove_duplicate(s))"
      ],
      "metadata": {
        "colab": {
          "base_uri": "https://localhost:8080/"
        },
        "id": "aPtMD3IaFPBs",
        "outputId": "4daa0759-5c09-44fb-d6a1-213ee73c5874"
      },
      "execution_count": null,
      "outputs": [
        {
          "output_type": "stream",
          "name": "stdout",
          "text": [
            "abcfgbsca\n",
            "After removing duplicates:  abcfgs\n"
          ]
        }
      ]
    },
    {
      "cell_type": "code",
      "source": [
        "def delete_reoccurring_characters(string):\n",
        "    seen_characters = set()\n",
        "    output_string = ''\n",
        "    for char in string:\n",
        "        if char not in seen_characters:\n",
        "            seen_characters.add(char)\n",
        "            output_string += char\n",
        "    return output_string"
      ],
      "metadata": {
        "id": "V0QBmhRRHSPy"
      },
      "execution_count": null,
      "outputs": []
    },
    {
      "cell_type": "code",
      "source": [
        "#17.Given a string as your input, delete any reoccurring character, and return the new string\n",
        "string=\"geeksforgeeks\"\n",
        "p=\"\"\n",
        "for char in string:\n",
        "  if char not in p:\n",
        "    p=p+char\n",
        "print(p)\n",
        "k=list(\"geeksforgeeks\")"
      ],
      "metadata": {
        "colab": {
          "base_uri": "https://localhost:8080/",
          "height": 70
        },
        "id": "7OA9i9kbIkWC",
        "outputId": "1c3d67f0-801d-4d48-8f51-50960240e690"
      },
      "execution_count": null,
      "outputs": [
        {
          "output_type": "stream",
          "name": "stdout",
          "text": [
            "geksfor\n",
            "['g', 'e', 'e', 'k', 's', 'f', 'o', 'r', 'g', 'e', 'e', 'k', 's']\n"
          ]
        },
        {
          "output_type": "execute_result",
          "data": {
            "text/plain": [
              "'\\n    if char not in p:\\n        p=p+char\\nprint(p)\\nk=list(\"geeksforgeeks\")\\n\\n'"
            ],
            "application/vnd.google.colaboratory.intrinsic+json": {
              "type": "string"
            }
          },
          "metadata": {},
          "execution_count": 15
        }
      ]
    },
    {
      "cell_type": "code",
      "source": [
        "18.#Write a sorting function without using the list.sort function(descending order)\n",
        "number=[1,5,6,9,0]\n",
        "for i in range(len(number)):\n",
        "  for j in range(i+1,len(number)):\n",
        "    if number[i]<number[j]:\n",
        "      number[i],number[j]=number[j],number[i]\n",
        "print(number)"
      ],
      "metadata": {
        "colab": {
          "base_uri": "https://localhost:8080/"
        },
        "id": "NfRYDqGAKQeT",
        "outputId": "348afc4d-bcf4-4167-9f8f-8671d8865763"
      },
      "execution_count": null,
      "outputs": [
        {
          "output_type": "stream",
          "name": "stdout",
          "text": [
            "[9, 6, 5, 1, 0]\n"
          ]
        }
      ]
    },
    {
      "cell_type": "code",
      "source": [
        "19.#Write a sorting function without using the list.sort function( order)\n",
        "# Python Program to Sort List in Ascending Order\n",
        "\n",
        "NumList = []\n",
        "\n",
        "Number = int(input(\"Please enter the Total Number of List Elements: \"))\n",
        "for i in range(1, Number + 1):\n",
        "    value = int(input(\"Please enter the Value of %d Element : \" %i))\n",
        "    NumList.append(value)\n",
        "\n",
        "for i in range (Number):\n",
        "    for j in range(i + 1, Number):\n",
        "        if(NumList[i] > NumList[j]):\n",
        "            temp = NumList[i]\n",
        "            NumList[i] = NumList[j]\n",
        "            NumList[j] = temp\n",
        "\n",
        "print(\"Element After Sorting List in Ascending Order is : \", NumList)\n",
        "\n",
        "\"\"\"\n",
        "First Python For Loop – First Iteration: for 0 in range(0, 4)\n",
        "The condition is True. So, it enters into second for loop\n",
        "\n",
        "Nested For Loop – First Iteration: for 1 in range(0 + 1, 4)\n",
        "Condition is True. So, it enters into the If Statement\n",
        "\n",
        "if(NumList[0] > NumList[1]) = if(67 > 86) – It means the condition is False. So, it exits from If block, and j value incremented by 1.\n",
        "\n",
        "Nested For Loop – Second Iteration: for 2 in range(1, 4) – Condition is True\n",
        "if(67 > 34) – Condition is True\n",
        "temp = 67\n",
        "NumList[i] = 34\n",
        "NumList[j] = 67\n",
        "Now the List = 34 86 67 55. Next, j increment by 1.\n",
        "\n",
        "Nested For Loop – Third Iteration: for 3 in range(1, 4) – Condition is True\n",
        "\n",
        "if(34 > 55) – Condition is False. So, it exits from the If block, and the j value is 4.\n",
        "\n",
        "Nested For Loop – Fourth Iteration: for 4 in range(1, 4) – Condition is False\n",
        "Next, i value incremented by 1.\n",
        "\n",
        "First For Loop – Second Iteration: for 1 in range(0, 4)\n",
        "The condition is True. So, it enters into second for loop\n",
        "\n",
        "\n",
        "\"\"\"\n"
      ],
      "metadata": {
        "colab": {
          "base_uri": "https://localhost:8080/",
          "height": 244
        },
        "id": "gbdogD-IL9nE",
        "outputId": "3df2b744-b01b-44d6-fc6a-d0d921e2d6cb"
      },
      "execution_count": null,
      "outputs": [
        {
          "output_type": "stream",
          "name": "stdout",
          "text": [
            "Please enter the Total Number of List Elements: 4\n",
            "Please enter the Value of 1 Element : 67\n",
            "Please enter the Value of 2 Element : 86\n",
            "Please enter the Value of 3 Element : 34\n",
            "Please enter the Value of 4 Element : 55\n",
            "Element After Sorting List in Ascending Order is :  [34, 55, 67, 86]\n"
          ]
        },
        {
          "output_type": "execute_result",
          "data": {
            "text/plain": [
              "'\\nFirst Python For Loop – First Iteration: for 0 in range(0, 4)\\nThe condition is True. So, it enters into second for loop\\n\\nNested For Loop – First Iteration: for 1 in range(0 + 1, 4)\\nCondition is True. So, it enters into the If Statement\\n\\nif(NumList[0] > NumList[1]) = if(67 > 86) – It means the condition is False. So, it exits from If block, and j value incremented by 1.\\n\\nNested For Loop – Second Iteration: for 2 in range(1, 4) – Condition is True\\nif(67 > 34) – Condition is True\\ntemp = 67\\nNumList[i] = 34\\nNumList[j] = 67\\nNow the List = 34 86 67 55. Next, j increment by 1.\\n\\nNested For Loop – Third Iteration: for 3 in range(1, 4) – Condition is True\\n\\nif(34 > 55) – Condition is False. So, it exits from the If block, and the j value is 4.\\n\\nNested For Loop – Fourth Iteration: for 4 in range(1, 4) – Condition is False\\nNext, i value incremented by 1.\\n\\nFirst For Loop – Second Iteration: for 1 in range(0, 4)\\nThe condition is True. So, it enters into second for loop\\n\\n\\n'"
            ],
            "application/vnd.google.colaboratory.intrinsic+json": {
              "type": "string"
            }
          },
          "metadata": {},
          "execution_count": 21
        }
      ]
    },
    {
      "cell_type": "code",
      "source": [
        "20.#Get a list of name as an input from user and make the first letters in caps and print each word as list\n",
        "n = int(input(\"Enter total number of names:\"))\n",
        "\n",
        "Name = []\n",
        "\n",
        "print(\"\\n Enter names: \")\n",
        "\n",
        "for i in range(0, n):\n",
        "    x = input()\n",
        "    Name.append(x)\n",
        "\n",
        "print(\"\\n Names are:\")\n",
        "\n",
        "for i in range(0, n):\n",
        "    print(Name[i].capitalize())"
      ],
      "metadata": {
        "colab": {
          "base_uri": "https://localhost:8080/"
        },
        "id": "fmOGFtPsQYnk",
        "outputId": "b95d8429-323c-46bc-837d-28c5d4d648e9"
      },
      "execution_count": null,
      "outputs": [
        {
          "output_type": "stream",
          "name": "stdout",
          "text": [
            "Enter total number of names:4\n",
            "\n",
            " Enter names: \n",
            "Ajay\n",
            "Akash\n",
            "Surajit\n",
            "Divisha\n",
            "\n",
            " Names are:\n",
            "Ajay\n",
            "Akash\n",
            "Surajit\n",
            "Divisha\n"
          ]
        }
      ]
    },
    {
      "cell_type": "code",
      "source": [
        "21.#Write a  python program to print a list in reverse\n",
        "NumList = []\n",
        "\n",
        "Number = int(input(\"Please enter the Total Number of List Elements: \"))\n",
        "for i in range(1, Number + 1):\n",
        "    value = int(input(\"Please enter the Value of %d Element : \" %i))\n",
        "    NumList.append(value)\n",
        "\n",
        "NumList.reverse()\n",
        "print(\"\\nThe Result of a Reverse List =  \", NumList)"
      ],
      "metadata": {
        "colab": {
          "base_uri": "https://localhost:8080/"
        },
        "id": "urltho_Kxv9t",
        "outputId": "8888f3ba-9acb-4ecb-8d3b-5b2936d0c06b"
      },
      "execution_count": null,
      "outputs": [
        {
          "output_type": "stream",
          "name": "stdout",
          "text": [
            "Please enter the Total Number of List Elements: 4\n",
            "Please enter the Value of 1 Element : 11\n",
            "Please enter the Value of 2 Element : 22\n",
            "Please enter the Value of 3 Element : 33\n",
            "Please enter the Value of 4 Element : 44\n",
            "\n",
            "The Result of a Reverse List =   [44, 33, 22, 11]\n"
          ]
        }
      ]
    },
    {
      "cell_type": "code",
      "source": [
        "21.#Write a  python program to print a list in reverse\n",
        "lst = [10, 11, 12, 13, 14, 15]\n",
        "lst.reverse()\n",
        "print(\"Using reverse() \", lst)\n",
        " \n",
        "print(\"Using reversed() \", list(reversed(lst)))"
      ],
      "metadata": {
        "id": "a9o5WyKJymxC"
      },
      "execution_count": null,
      "outputs": []
    },
    {
      "cell_type": "code",
      "source": [
        "22.#Write a python program to print set of duplicates in a list\n",
        "lis = [1, 2, 1, 2, 3, 4, 5, 1, 1, 2, 5, 6, 7, 8, 9, 9]\n",
        "x = []\n",
        "y = []\n",
        "for i in lis:\n",
        "    if i not in x:\n",
        "        x.append(i)\n",
        "for i in x:\n",
        "    if lis.count(i) > 1:\n",
        "        y.append(i)\n",
        "print(y)"
      ],
      "metadata": {
        "colab": {
          "base_uri": "https://localhost:8080/"
        },
        "id": "tMjVhBZLzsSI",
        "outputId": "6d4d9286-6d99-40e9-b7b3-20fa58dd0f5d"
      },
      "execution_count": null,
      "outputs": [
        {
          "output_type": "stream",
          "name": "stdout",
          "text": [
            "[1, 2, 5, 9]\n"
          ]
        }
      ]
    },
    {
      "cell_type": "code",
      "source": [
        "23.#Given an  array arr[] of n elements, write a python function to search a given element x in arr[]\n",
        "\n",
        "# Python3 code to linearly search x in arr[].  \n",
        "# If x is present then return its location, \n",
        "# otherwise return -1 \n",
        "  \n",
        "def search(arr, n, x): \n",
        "  \n",
        "    for i in range (0, n): \n",
        "        if (arr[i] == x): \n",
        "            return i; \n",
        "    return -1; \n",
        "  \n",
        "# Driver Code \n",
        "arr = [ 2, 3, 4, 10, 40 ]; \n",
        "x = 10; \n",
        "n = len(arr); \n",
        "result = search(arr, n, x) \n",
        "if(result == -1): \n",
        "    print(\"Element is not present in array\") \n",
        "else: \n",
        "    print(\"Element is present at index\", result); \n"
      ],
      "metadata": {
        "colab": {
          "base_uri": "https://localhost:8080/"
        },
        "id": "3D_aeM5z0zfP",
        "outputId": "4179ecc9-d7a7-4959-d03f-953de6ad1771"
      },
      "execution_count": null,
      "outputs": [
        {
          "output_type": "stream",
          "name": "stdout",
          "text": [
            "Element is present at index 3\n"
          ]
        }
      ]
    },
    {
      "cell_type": "code",
      "source": [
        "24.#Given an  array arr[] of n elements, write a python function to search a given element x in arr[]\n",
        "def linearsearch(arr, x):\n",
        "   for i in range(len(arr)):\n",
        "      if arr[i] == x:\n",
        "         return i\n",
        "   return -1\n",
        "arr = ['t','u','t','o','r','i','a','l']\n",
        "x = 'a'\n",
        "print(\"element found at index \"+str(linearsearch(arr,x)))"
      ],
      "metadata": {
        "colab": {
          "base_uri": "https://localhost:8080/"
        },
        "id": "986qWMIW1pxU",
        "outputId": "c8194429-02c5-4ea1-f93e-9b1954c1ffd3"
      },
      "execution_count": null,
      "outputs": [
        {
          "output_type": "stream",
          "name": "stdout",
          "text": [
            "element found at index 6\n"
          ]
        }
      ]
    },
    {
      "cell_type": "code",
      "source": [
        "25.#Recursive :\n",
        "# Python 3 program for recursive binary search.\n",
        "# Modifications needed for the older Python 2 are found in comments.\n",
        " \n",
        "# Returns index of x in arr if present, else -1\n",
        "def binary_search(arr, low, high, x):\n",
        " \n",
        "    # Check base case\n",
        "    if high >= low:\n",
        " \n",
        "        mid = (high + low) // 2\n",
        " \n",
        "        # If element is present at the middle itself\n",
        "        if arr[mid] == x:\n",
        "            return mid\n",
        " \n",
        "        # If element is smaller than mid, then it can only\n",
        "        # be present in left subarray\n",
        "        elif arr[mid] > x:\n",
        "            return binary_search(arr, low, mid - 1, x)\n",
        " \n",
        "        # Else the element can only be present in right subarray\n",
        "        else:\n",
        "            return binary_search(arr, mid + 1, high, x)\n",
        " \n",
        "    else:\n",
        "        # Element is not present in the array\n",
        "        return -1\n",
        " \n",
        "# Test array\n",
        "arr = [ 2, 3, 4, 10, 40 ]\n",
        "x = 10\n",
        " \n",
        "# Function call\n",
        "result = binary_search(arr, 0, len(arr)-1, x)\n",
        " \n",
        "if result != -1:\n",
        "    print(\"Element is present at index\", str(result))\n",
        "else:\n",
        "    print(\"Element is not present in array\")\n",
        "\n",
        "\"\"\"\n",
        "Time Complexity: O(log n)\n",
        "\n",
        "Auxiliary Space: O(logn)     [NOTE: Recursion creates Call Stack]\n",
        "\n",
        "\"\"\"\n"
      ],
      "metadata": {
        "colab": {
          "base_uri": "https://localhost:8080/",
          "height": 53
        },
        "id": "H3oXlh_o17Xl",
        "outputId": "09c01b52-6c13-4d89-cb6e-ce07de4c37f6"
      },
      "execution_count": null,
      "outputs": [
        {
          "output_type": "stream",
          "name": "stdout",
          "text": [
            "Element is present at index 3\n"
          ]
        },
        {
          "output_type": "execute_result",
          "data": {
            "text/plain": [
              "'\\nTime Complexity: O(log n)\\n\\nAuxiliary Space: O(logn)     [NOTE: Recursion creates Call Stack]\\n\\n'"
            ],
            "application/vnd.google.colaboratory.intrinsic+json": {
              "type": "string"
            }
          },
          "metadata": {},
          "execution_count": 8
        }
      ]
    },
    {
      "cell_type": "code",
      "source": [
        "24.#Given an  array arr[] of n elements, write a python function to search a given element x in arr[]\n",
        " #Iterative Binary Search Function\n",
        "# It returns index of x in given array arr if present,\n",
        "# else returns -1\n",
        "def binary_search(arr, x):\n",
        "    low = 0\n",
        "    high = len(arr) - 1\n",
        "    mid = 0\n",
        " \n",
        "    while low <= high:\n",
        " \n",
        "        mid = (high + low) // 2\n",
        " \n",
        "        # If x is greater, ignore left half\n",
        "        if arr[mid] < x:\n",
        "            low = mid + 1\n",
        " \n",
        "        # If x is smaller, ignore right half\n",
        "        elif arr[mid] > x:\n",
        "            high = mid - 1\n",
        " \n",
        "        # means x is present at mid\n",
        "        else:\n",
        "            return mid\n",
        " \n",
        "    # If we reach here, then the element was not present\n",
        "    return -1\n",
        " \n",
        " \n",
        "# Test array\n",
        "arr = [ 2, 3, 4, 10, 40 ]\n",
        "x = 10\n",
        " \n",
        "# Function call\n",
        "result = binary_search(arr, x)\n",
        " \n",
        "if result != -1:\n",
        "    print(\"Element is present at index\", str(result))\n",
        "else:\n",
        "    print(\"Element is not present in array\")\n",
        "\n",
        "\"\"\"\n",
        "Time Complexity: O(log n)\n",
        "\n",
        "Auxiliary Space: O(1)\n",
        "\n",
        "\"\"\""
      ],
      "metadata": {
        "colab": {
          "base_uri": "https://localhost:8080/"
        },
        "id": "op1UF5lW5XkU",
        "outputId": "08846db1-3411-4a9d-dd77-efb719c507a8"
      },
      "execution_count": null,
      "outputs": [
        {
          "output_type": "stream",
          "name": "stdout",
          "text": [
            "Element is present at index 3\n"
          ]
        }
      ]
    },
    {
      "cell_type": "code",
      "source": [
        "\"\"\"\n",
        "In a nutshell, this search algorithm takes advantage of a collection of elements that is already sorted by ignoring half of the elements after just one comparison. \n",
        "\n",
        "Compare x with the middle element.\n",
        "If x matches with the middle element, we return the mid index.\n",
        "Else if x is greater than the mid element, then x can only lie in the right (greater) half subarray after the mid element. Then we apply the algorithm again for the right half.\n",
        "Else if x is smaller, the target x must lie in the left (lower) half. So we apply the algorithm for the left half.\n",
        "\n",
        "\n",
        "\"\"\""
      ],
      "metadata": {
        "id": "ySWEAmNV5A44"
      },
      "execution_count": null,
      "outputs": []
    },
    {
      "cell_type": "code",
      "source": [
        "#25.Multiplication Table\n",
        "print(\"simple table\")\n",
        "num = int(input(\"Enter the number of your choice\\n\"))\n",
        "print(\"*\"*15)\n",
        "multiple = 1\n",
        "while(multiple<=10):\n",
        "  print(num, \"x\", multiple, \"=\", multiple*num)\n",
        "  multiple=multiple+1\n",
        "  print(\"*\"*15)"
      ],
      "metadata": {
        "colab": {
          "base_uri": "https://localhost:8080/"
        },
        "id": "fskUFjzdEYO9",
        "outputId": "52116e4f-50b1-4579-a877-f42564050fcf"
      },
      "execution_count": null,
      "outputs": [
        {
          "output_type": "stream",
          "name": "stdout",
          "text": [
            "simple table\n",
            "Enter the number of your choice\n",
            "3\n",
            "***************\n",
            "3 x 1 = 3\n",
            "***************\n",
            "3 x 2 = 6\n",
            "***************\n",
            "3 x 3 = 9\n",
            "***************\n",
            "3 x 4 = 12\n",
            "***************\n",
            "3 x 5 = 15\n",
            "***************\n",
            "3 x 6 = 18\n",
            "***************\n",
            "3 x 7 = 21\n",
            "***************\n",
            "3 x 8 = 24\n",
            "***************\n",
            "3 x 9 = 27\n",
            "***************\n",
            "3 x 10 = 30\n",
            "***************\n"
          ]
        }
      ]
    }
  ]
}